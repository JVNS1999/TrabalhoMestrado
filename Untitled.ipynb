{
 "cells": [
  {
   "cell_type": "code",
   "execution_count": 31,
   "id": "3582cbb3",
   "metadata": {},
   "outputs": [],
   "source": [
    "import pandas as pd\n",
    "import matplotlib.pyplot as plt\n",
    "import numpy as np "
   ]
  },
  {
   "cell_type": "code",
   "execution_count": 32,
   "id": "afe82279",
   "metadata": {},
   "outputs": [
    {
     "data": {
      "text/html": [
       "<div>\n",
       "<style scoped>\n",
       "    .dataframe tbody tr th:only-of-type {\n",
       "        vertical-align: middle;\n",
       "    }\n",
       "\n",
       "    .dataframe tbody tr th {\n",
       "        vertical-align: top;\n",
       "    }\n",
       "\n",
       "    .dataframe thead th {\n",
       "        text-align: right;\n",
       "    }\n",
       "</style>\n",
       "<table border=\"1\" class=\"dataframe\">\n",
       "  <thead>\n",
       "    <tr style=\"text-align: right;\">\n",
       "      <th></th>\n",
       "      <th>T</th>\n",
       "      <th>E</th>\n",
       "      <th>Cv</th>\n",
       "      <th>Mx</th>\n",
       "      <th>My</th>\n",
       "    </tr>\n",
       "  </thead>\n",
       "  <tbody>\n",
       "    <tr>\n",
       "      <th>0</th>\n",
       "      <td>50.000000</td>\n",
       "      <td>-8.650868</td>\n",
       "      <td>0.120117</td>\n",
       "      <td>0.000015</td>\n",
       "      <td>0.000092</td>\n",
       "    </tr>\n",
       "    <tr>\n",
       "      <th>1</th>\n",
       "      <td>25.000000</td>\n",
       "      <td>-12.496436</td>\n",
       "      <td>0.175557</td>\n",
       "      <td>-0.000033</td>\n",
       "      <td>-0.000013</td>\n",
       "    </tr>\n",
       "    <tr>\n",
       "      <th>2</th>\n",
       "      <td>12.500000</td>\n",
       "      <td>-14.480191</td>\n",
       "      <td>0.136798</td>\n",
       "      <td>0.000018</td>\n",
       "      <td>0.001178</td>\n",
       "    </tr>\n",
       "    <tr>\n",
       "      <th>3</th>\n",
       "      <td>6.250000</td>\n",
       "      <td>-15.454313</td>\n",
       "      <td>0.157191</td>\n",
       "      <td>-0.008189</td>\n",
       "      <td>-0.003359</td>\n",
       "    </tr>\n",
       "    <tr>\n",
       "      <th>4</th>\n",
       "      <td>3.125000</td>\n",
       "      <td>-15.538294</td>\n",
       "      <td>0.082692</td>\n",
       "      <td>0.003314</td>\n",
       "      <td>0.018165</td>\n",
       "    </tr>\n",
       "    <tr>\n",
       "      <th>5</th>\n",
       "      <td>1.562500</td>\n",
       "      <td>-15.441228</td>\n",
       "      <td>0.134636</td>\n",
       "      <td>-0.002179</td>\n",
       "      <td>0.013547</td>\n",
       "    </tr>\n",
       "    <tr>\n",
       "      <th>6</th>\n",
       "      <td>0.781250</td>\n",
       "      <td>-15.377905</td>\n",
       "      <td>0.355401</td>\n",
       "      <td>-0.007015</td>\n",
       "      <td>0.001008</td>\n",
       "    </tr>\n",
       "    <tr>\n",
       "      <th>7</th>\n",
       "      <td>0.390625</td>\n",
       "      <td>-15.325499</td>\n",
       "      <td>0.731706</td>\n",
       "      <td>0.003548</td>\n",
       "      <td>-0.015477</td>\n",
       "    </tr>\n",
       "    <tr>\n",
       "      <th>8</th>\n",
       "      <td>0.195312</td>\n",
       "      <td>-15.342200</td>\n",
       "      <td>0.397263</td>\n",
       "      <td>0.001493</td>\n",
       "      <td>-0.011100</td>\n",
       "    </tr>\n",
       "    <tr>\n",
       "      <th>9</th>\n",
       "      <td>0.097656</td>\n",
       "      <td>-15.318464</td>\n",
       "      <td>35.483813</td>\n",
       "      <td>0.000642</td>\n",
       "      <td>-0.014613</td>\n",
       "    </tr>\n",
       "    <tr>\n",
       "      <th>10</th>\n",
       "      <td>0.048828</td>\n",
       "      <td>-15.260637</td>\n",
       "      <td>0.008015</td>\n",
       "      <td>-0.011401</td>\n",
       "      <td>-0.007449</td>\n",
       "    </tr>\n",
       "    <tr>\n",
       "      <th>11</th>\n",
       "      <td>0.024414</td>\n",
       "      <td>-15.258784</td>\n",
       "      <td>1.353419</td>\n",
       "      <td>-0.009903</td>\n",
       "      <td>-0.007473</td>\n",
       "    </tr>\n",
       "    <tr>\n",
       "      <th>12</th>\n",
       "      <td>0.012207</td>\n",
       "      <td>-15.257227</td>\n",
       "      <td>0.001553</td>\n",
       "      <td>-0.008661</td>\n",
       "      <td>-0.007538</td>\n",
       "    </tr>\n",
       "    <tr>\n",
       "      <th>13</th>\n",
       "      <td>0.006104</td>\n",
       "      <td>-15.257227</td>\n",
       "      <td>0.005830</td>\n",
       "      <td>-0.008662</td>\n",
       "      <td>-0.007540</td>\n",
       "    </tr>\n",
       "    <tr>\n",
       "      <th>14</th>\n",
       "      <td>0.003052</td>\n",
       "      <td>-15.257227</td>\n",
       "      <td>0.023321</td>\n",
       "      <td>-0.008662</td>\n",
       "      <td>-0.007540</td>\n",
       "    </tr>\n",
       "  </tbody>\n",
       "</table>\n",
       "</div>"
      ],
      "text/plain": [
       "            T          E         Cv        Mx        My\n",
       "0   50.000000  -8.650868   0.120117  0.000015  0.000092\n",
       "1   25.000000 -12.496436   0.175557 -0.000033 -0.000013\n",
       "2   12.500000 -14.480191   0.136798  0.000018  0.001178\n",
       "3    6.250000 -15.454313   0.157191 -0.008189 -0.003359\n",
       "4    3.125000 -15.538294   0.082692  0.003314  0.018165\n",
       "5    1.562500 -15.441228   0.134636 -0.002179  0.013547\n",
       "6    0.781250 -15.377905   0.355401 -0.007015  0.001008\n",
       "7    0.390625 -15.325499   0.731706  0.003548 -0.015477\n",
       "8    0.195312 -15.342200   0.397263  0.001493 -0.011100\n",
       "9    0.097656 -15.318464  35.483813  0.000642 -0.014613\n",
       "10   0.048828 -15.260637   0.008015 -0.011401 -0.007449\n",
       "11   0.024414 -15.258784   1.353419 -0.009903 -0.007473\n",
       "12   0.012207 -15.257227   0.001553 -0.008661 -0.007538\n",
       "13   0.006104 -15.257227   0.005830 -0.008662 -0.007540\n",
       "14   0.003052 -15.257227   0.023321 -0.008662 -0.007540"
      ]
     },
     "execution_count": 32,
     "metadata": {},
     "output_type": "execute_result"
    }
   ],
   "source": [
    "dl = pd.read_csv('Emed.dat', sep = '\\s+' , names = ['T', 'E', 'Cv', 'Mx', 'My'])\n",
    "dl"
   ]
  },
  {
   "cell_type": "code",
   "execution_count": 33,
   "id": "c994e09a",
   "metadata": {},
   "outputs": [
    {
     "data": {
      "text/plain": [
       "[<matplotlib.lines.Line2D at 0x20576ae0400>]"
      ]
     },
     "execution_count": 33,
     "metadata": {},
     "output_type": "execute_result"
    },
    {
     "data": {
      "image/png": "[encoded data removed]",
      "text/plain": [
       "<Figure size 432x288 with 1 Axes>"
      ]
     },
     "metadata": {
      "needs_background": "light"
     },
     "output_type": "display_data"
    }
   ],
   "source": [
    "plt.plot(dl['T'], dl['E'])"
   ]
  },
  {
   "cell_type": "code",
   "execution_count": 37,
   "id": "a8c2be80",
   "metadata": {},
   "outputs": [
    {
     "data": {
      "text/plain": [
       "0    0.000094\n",
       "1    0.000036\n",
       "2    0.001178\n",
       "3    0.008851\n",
       "4    0.018465\n",
       "dtype: float64"
      ]
     },
     "execution_count": 37,
     "metadata": {},
     "output_type": "execute_result"
    }
   ],
   "source": [
    "M = np.sqrt(dl['Mx']**2 + dl['My']**2)\n",
    "M.head()"
   ]
  },
  {
   "cell_type": "code",
   "execution_count": 38,
   "id": "adc808e1",
   "metadata": {},
   "outputs": [
    {
     "data": {
      "image/png": "[encoded data removed]",
      "text/plain": [
       "<Figure size 432x288 with 1 Axes>"
      ]
     },
     "metadata": {
      "needs_background": "light"
     },
     "output_type": "display_data"
    }
   ],
   "source": [
    "plt.plot(dl['T'], M)\n",
    "plt.title('Magnetização x Temperatura')\n",
    "plt.ylabel('Magnetização')\n",
    "plt.xscale('log')\n",
    "#plt.savefig('Magnetização', dpi = 600)"
   ]
  },
  {
   "cell_type": "code",
   "execution_count": 39,
   "id": "84b62cd6",
   "metadata": {},
   "outputs": [
    {
     "data": {
      "image/png": "[encoded data removed]",
      "text/plain": [
       "<Figure size 432x288 with 1 Axes>"
      ]
     },
     "metadata": {
      "needs_background": "light"
     },
     "output_type": "display_data"
    }
   ],
   "source": [
    "plt.plot(dl['T'], dl['Cv'])\n",
    "plt.title('Cv x Temperatura')\n",
    "plt.ylabel('Cv')\n",
    "plt.xscale('log')\n",
    "#plt.savefig('Cv', dpi = 600)"
   ]
  }
 ],
 "metadata": {
  "kernelspec": {
   "display_name": "Python 3 (ipykernel)",
   "language": "python",
   "name": "python3"
  },
  "language_info": {
   "codemirror_mode": {
    "name": "ipython",
    "version": 3
   },
   "file_extension": ".py",
   "mimetype": "text/x-python",
   "name": "python",
   "nbconvert_exporter": "python",
   "pygments_lexer": "ipython3",
   "version": "3.9.12"
  }
 },
 "nbformat": 4,
 "nbformat_minor": 5
}
